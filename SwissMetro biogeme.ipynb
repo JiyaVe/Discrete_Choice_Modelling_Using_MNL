{
 "cells": [
  {
   "cell_type": "markdown",
   "metadata": {},
   "source": [
    "__SWISSMETRO__\n",
    "- A revolutionary underground system in switzerland.\n",
    "- We want to analyze the demand of such transportation\n"
   ]
  },
  {
   "cell_type": "markdown",
   "metadata": {},
   "source": [
    "Transportation mode choice\n",
    "- Train\n",
    " - Swissmetro \n",
    "  - Car"
   ]
  },
  {
   "cell_type": "markdown",
   "metadata": {},
   "source": [
    "Variables\n",
    "- Travel time : TRAIN_TT,SM_TT,CAR_TT\n",
    "- Travel Cost : TRAIN_CO, SM_CO, CAR_CO\n",
    "- Yearly subscription: GA (yearly subscription for public transport; here Train and Swissmetro)"
   ]
  },
  {
   "cell_type": "markdown",
   "metadata": {},
   "source": [
    "IMPORT THE PACKAGES"
   ]
  },
  {
   "cell_type": "code",
   "execution_count": 2,
   "metadata": {},
   "outputs": [],
   "source": [
    "import pandas as pd\n",
    "import biogeme.database as db\n",
    "import biogeme.biogeme as bio\n",
    "from biogeme.expressions import Beta, Variable\n",
    "from biogeme import models"
   ]
  },
  {
   "cell_type": "markdown",
   "metadata": {},
   "source": [
    "PREPARE THE DATA"
   ]
  },
  {
   "cell_type": "code",
   "execution_count": 21,
   "metadata": {},
   "outputs": [
    {
     "data": {
      "text/html": [
       "<div>\n",
       "<style scoped>\n",
       "    .dataframe tbody tr th:only-of-type {\n",
       "        vertical-align: middle;\n",
       "    }\n",
       "\n",
       "    .dataframe tbody tr th {\n",
       "        vertical-align: top;\n",
       "    }\n",
       "\n",
       "    .dataframe thead th {\n",
       "        text-align: right;\n",
       "    }\n",
       "</style>\n",
       "<table border=\"1\" class=\"dataframe\">\n",
       "  <thead>\n",
       "    <tr style=\"text-align: right;\">\n",
       "      <th></th>\n",
       "      <th>GROUP</th>\n",
       "      <th>SURVEY</th>\n",
       "      <th>SP</th>\n",
       "      <th>ID</th>\n",
       "      <th>PURPOSE</th>\n",
       "      <th>FIRST</th>\n",
       "      <th>TICKET</th>\n",
       "      <th>WHO</th>\n",
       "      <th>LUGGAGE</th>\n",
       "      <th>AGE</th>\n",
       "      <th>...</th>\n",
       "      <th>TRAIN_TT</th>\n",
       "      <th>TRAIN_CO</th>\n",
       "      <th>TRAIN_HE</th>\n",
       "      <th>SM_TT</th>\n",
       "      <th>SM_CO</th>\n",
       "      <th>SM_HE</th>\n",
       "      <th>SM_SEATS</th>\n",
       "      <th>CAR_TT</th>\n",
       "      <th>CAR_CO</th>\n",
       "      <th>CHOICE</th>\n",
       "    </tr>\n",
       "  </thead>\n",
       "  <tbody>\n",
       "    <tr>\n",
       "      <th>0</th>\n",
       "      <td>2</td>\n",
       "      <td>0</td>\n",
       "      <td>1</td>\n",
       "      <td>1</td>\n",
       "      <td>1</td>\n",
       "      <td>0</td>\n",
       "      <td>1</td>\n",
       "      <td>1</td>\n",
       "      <td>0</td>\n",
       "      <td>3</td>\n",
       "      <td>...</td>\n",
       "      <td>112</td>\n",
       "      <td>48</td>\n",
       "      <td>120</td>\n",
       "      <td>63</td>\n",
       "      <td>52</td>\n",
       "      <td>20</td>\n",
       "      <td>0</td>\n",
       "      <td>117</td>\n",
       "      <td>65</td>\n",
       "      <td>2</td>\n",
       "    </tr>\n",
       "    <tr>\n",
       "      <th>1</th>\n",
       "      <td>2</td>\n",
       "      <td>0</td>\n",
       "      <td>1</td>\n",
       "      <td>1</td>\n",
       "      <td>1</td>\n",
       "      <td>0</td>\n",
       "      <td>1</td>\n",
       "      <td>1</td>\n",
       "      <td>0</td>\n",
       "      <td>3</td>\n",
       "      <td>...</td>\n",
       "      <td>103</td>\n",
       "      <td>48</td>\n",
       "      <td>30</td>\n",
       "      <td>60</td>\n",
       "      <td>49</td>\n",
       "      <td>10</td>\n",
       "      <td>0</td>\n",
       "      <td>117</td>\n",
       "      <td>84</td>\n",
       "      <td>2</td>\n",
       "    </tr>\n",
       "    <tr>\n",
       "      <th>2</th>\n",
       "      <td>2</td>\n",
       "      <td>0</td>\n",
       "      <td>1</td>\n",
       "      <td>1</td>\n",
       "      <td>1</td>\n",
       "      <td>0</td>\n",
       "      <td>1</td>\n",
       "      <td>1</td>\n",
       "      <td>0</td>\n",
       "      <td>3</td>\n",
       "      <td>...</td>\n",
       "      <td>130</td>\n",
       "      <td>48</td>\n",
       "      <td>60</td>\n",
       "      <td>67</td>\n",
       "      <td>58</td>\n",
       "      <td>30</td>\n",
       "      <td>0</td>\n",
       "      <td>117</td>\n",
       "      <td>52</td>\n",
       "      <td>2</td>\n",
       "    </tr>\n",
       "    <tr>\n",
       "      <th>3</th>\n",
       "      <td>2</td>\n",
       "      <td>0</td>\n",
       "      <td>1</td>\n",
       "      <td>1</td>\n",
       "      <td>1</td>\n",
       "      <td>0</td>\n",
       "      <td>1</td>\n",
       "      <td>1</td>\n",
       "      <td>0</td>\n",
       "      <td>3</td>\n",
       "      <td>...</td>\n",
       "      <td>103</td>\n",
       "      <td>40</td>\n",
       "      <td>30</td>\n",
       "      <td>63</td>\n",
       "      <td>52</td>\n",
       "      <td>20</td>\n",
       "      <td>0</td>\n",
       "      <td>72</td>\n",
       "      <td>52</td>\n",
       "      <td>2</td>\n",
       "    </tr>\n",
       "    <tr>\n",
       "      <th>4</th>\n",
       "      <td>2</td>\n",
       "      <td>0</td>\n",
       "      <td>1</td>\n",
       "      <td>1</td>\n",
       "      <td>1</td>\n",
       "      <td>0</td>\n",
       "      <td>1</td>\n",
       "      <td>1</td>\n",
       "      <td>0</td>\n",
       "      <td>3</td>\n",
       "      <td>...</td>\n",
       "      <td>130</td>\n",
       "      <td>36</td>\n",
       "      <td>60</td>\n",
       "      <td>63</td>\n",
       "      <td>42</td>\n",
       "      <td>20</td>\n",
       "      <td>0</td>\n",
       "      <td>90</td>\n",
       "      <td>84</td>\n",
       "      <td>2</td>\n",
       "    </tr>\n",
       "    <tr>\n",
       "      <th>...</th>\n",
       "      <td>...</td>\n",
       "      <td>...</td>\n",
       "      <td>...</td>\n",
       "      <td>...</td>\n",
       "      <td>...</td>\n",
       "      <td>...</td>\n",
       "      <td>...</td>\n",
       "      <td>...</td>\n",
       "      <td>...</td>\n",
       "      <td>...</td>\n",
       "      <td>...</td>\n",
       "      <td>...</td>\n",
       "      <td>...</td>\n",
       "      <td>...</td>\n",
       "      <td>...</td>\n",
       "      <td>...</td>\n",
       "      <td>...</td>\n",
       "      <td>...</td>\n",
       "      <td>...</td>\n",
       "      <td>...</td>\n",
       "      <td>...</td>\n",
       "    </tr>\n",
       "    <tr>\n",
       "      <th>10723</th>\n",
       "      <td>3</td>\n",
       "      <td>1</td>\n",
       "      <td>1</td>\n",
       "      <td>1192</td>\n",
       "      <td>4</td>\n",
       "      <td>1</td>\n",
       "      <td>7</td>\n",
       "      <td>1</td>\n",
       "      <td>0</td>\n",
       "      <td>5</td>\n",
       "      <td>...</td>\n",
       "      <td>148</td>\n",
       "      <td>13</td>\n",
       "      <td>30</td>\n",
       "      <td>93</td>\n",
       "      <td>17</td>\n",
       "      <td>30</td>\n",
       "      <td>0</td>\n",
       "      <td>156</td>\n",
       "      <td>56</td>\n",
       "      <td>2</td>\n",
       "    </tr>\n",
       "    <tr>\n",
       "      <th>10724</th>\n",
       "      <td>3</td>\n",
       "      <td>1</td>\n",
       "      <td>1</td>\n",
       "      <td>1192</td>\n",
       "      <td>4</td>\n",
       "      <td>1</td>\n",
       "      <td>7</td>\n",
       "      <td>1</td>\n",
       "      <td>0</td>\n",
       "      <td>5</td>\n",
       "      <td>...</td>\n",
       "      <td>148</td>\n",
       "      <td>12</td>\n",
       "      <td>30</td>\n",
       "      <td>96</td>\n",
       "      <td>16</td>\n",
       "      <td>10</td>\n",
       "      <td>0</td>\n",
       "      <td>96</td>\n",
       "      <td>70</td>\n",
       "      <td>3</td>\n",
       "    </tr>\n",
       "    <tr>\n",
       "      <th>10725</th>\n",
       "      <td>3</td>\n",
       "      <td>1</td>\n",
       "      <td>1</td>\n",
       "      <td>1192</td>\n",
       "      <td>4</td>\n",
       "      <td>1</td>\n",
       "      <td>7</td>\n",
       "      <td>1</td>\n",
       "      <td>0</td>\n",
       "      <td>5</td>\n",
       "      <td>...</td>\n",
       "      <td>148</td>\n",
       "      <td>16</td>\n",
       "      <td>60</td>\n",
       "      <td>93</td>\n",
       "      <td>16</td>\n",
       "      <td>20</td>\n",
       "      <td>0</td>\n",
       "      <td>96</td>\n",
       "      <td>56</td>\n",
       "      <td>3</td>\n",
       "    </tr>\n",
       "    <tr>\n",
       "      <th>10726</th>\n",
       "      <td>3</td>\n",
       "      <td>1</td>\n",
       "      <td>1</td>\n",
       "      <td>1192</td>\n",
       "      <td>4</td>\n",
       "      <td>1</td>\n",
       "      <td>7</td>\n",
       "      <td>1</td>\n",
       "      <td>0</td>\n",
       "      <td>5</td>\n",
       "      <td>...</td>\n",
       "      <td>178</td>\n",
       "      <td>16</td>\n",
       "      <td>30</td>\n",
       "      <td>96</td>\n",
       "      <td>17</td>\n",
       "      <td>30</td>\n",
       "      <td>0</td>\n",
       "      <td>96</td>\n",
       "      <td>91</td>\n",
       "      <td>2</td>\n",
       "    </tr>\n",
       "    <tr>\n",
       "      <th>10727</th>\n",
       "      <td>3</td>\n",
       "      <td>1</td>\n",
       "      <td>1</td>\n",
       "      <td>1192</td>\n",
       "      <td>4</td>\n",
       "      <td>1</td>\n",
       "      <td>7</td>\n",
       "      <td>1</td>\n",
       "      <td>0</td>\n",
       "      <td>5</td>\n",
       "      <td>...</td>\n",
       "      <td>148</td>\n",
       "      <td>13</td>\n",
       "      <td>60</td>\n",
       "      <td>96</td>\n",
       "      <td>21</td>\n",
       "      <td>30</td>\n",
       "      <td>0</td>\n",
       "      <td>120</td>\n",
       "      <td>70</td>\n",
       "      <td>3</td>\n",
       "    </tr>\n",
       "  </tbody>\n",
       "</table>\n",
       "<p>10728 rows × 28 columns</p>\n",
       "</div>"
      ],
      "text/plain": [
       "       GROUP  SURVEY  SP    ID  PURPOSE  FIRST  TICKET  WHO  LUGGAGE  AGE  \\\n",
       "0          2       0   1     1        1      0       1    1        0    3   \n",
       "1          2       0   1     1        1      0       1    1        0    3   \n",
       "2          2       0   1     1        1      0       1    1        0    3   \n",
       "3          2       0   1     1        1      0       1    1        0    3   \n",
       "4          2       0   1     1        1      0       1    1        0    3   \n",
       "...      ...     ...  ..   ...      ...    ...     ...  ...      ...  ...   \n",
       "10723      3       1   1  1192        4      1       7    1        0    5   \n",
       "10724      3       1   1  1192        4      1       7    1        0    5   \n",
       "10725      3       1   1  1192        4      1       7    1        0    5   \n",
       "10726      3       1   1  1192        4      1       7    1        0    5   \n",
       "10727      3       1   1  1192        4      1       7    1        0    5   \n",
       "\n",
       "       ...  TRAIN_TT  TRAIN_CO  TRAIN_HE  SM_TT  SM_CO  SM_HE  SM_SEATS  \\\n",
       "0      ...       112        48       120     63     52     20         0   \n",
       "1      ...       103        48        30     60     49     10         0   \n",
       "2      ...       130        48        60     67     58     30         0   \n",
       "3      ...       103        40        30     63     52     20         0   \n",
       "4      ...       130        36        60     63     42     20         0   \n",
       "...    ...       ...       ...       ...    ...    ...    ...       ...   \n",
       "10723  ...       148        13        30     93     17     30         0   \n",
       "10724  ...       148        12        30     96     16     10         0   \n",
       "10725  ...       148        16        60     93     16     20         0   \n",
       "10726  ...       178        16        30     96     17     30         0   \n",
       "10727  ...       148        13        60     96     21     30         0   \n",
       "\n",
       "       CAR_TT  CAR_CO  CHOICE  \n",
       "0         117      65       2  \n",
       "1         117      84       2  \n",
       "2         117      52       2  \n",
       "3          72      52       2  \n",
       "4          90      84       2  \n",
       "...       ...     ...     ...  \n",
       "10723     156      56       2  \n",
       "10724      96      70       3  \n",
       "10725      96      56       3  \n",
       "10726      96      91       2  \n",
       "10727     120      70       3  \n",
       "\n",
       "[10728 rows x 28 columns]"
      ]
     },
     "execution_count": 21,
     "metadata": {},
     "output_type": "execute_result"
    }
   ],
   "source": [
    "data = pd.read_table(\"swissmetro.dat\")\n",
    "data"
   ]
  },
  {
   "cell_type": "code",
   "execution_count": 40,
   "metadata": {},
   "outputs": [
    {
     "data": {
      "text/html": [
       "<div>\n",
       "<style scoped>\n",
       "    .dataframe tbody tr th:only-of-type {\n",
       "        vertical-align: middle;\n",
       "    }\n",
       "\n",
       "    .dataframe tbody tr th {\n",
       "        vertical-align: top;\n",
       "    }\n",
       "\n",
       "    .dataframe thead th {\n",
       "        text-align: right;\n",
       "    }\n",
       "</style>\n",
       "<table border=\"1\" class=\"dataframe\">\n",
       "  <thead>\n",
       "    <tr style=\"text-align: right;\">\n",
       "      <th></th>\n",
       "      <th>GROUP</th>\n",
       "      <th>SURVEY</th>\n",
       "      <th>SP</th>\n",
       "      <th>ID</th>\n",
       "      <th>PURPOSE</th>\n",
       "      <th>FIRST</th>\n",
       "      <th>TICKET</th>\n",
       "      <th>WHO</th>\n",
       "      <th>LUGGAGE</th>\n",
       "      <th>AGE</th>\n",
       "      <th>...</th>\n",
       "      <th>TRAIN_TT</th>\n",
       "      <th>TRAIN_CO</th>\n",
       "      <th>TRAIN_HE</th>\n",
       "      <th>SM_TT</th>\n",
       "      <th>SM_CO</th>\n",
       "      <th>SM_HE</th>\n",
       "      <th>SM_SEATS</th>\n",
       "      <th>CAR_TT</th>\n",
       "      <th>CAR_CO</th>\n",
       "      <th>CHOICE</th>\n",
       "    </tr>\n",
       "  </thead>\n",
       "  <tbody>\n",
       "    <tr>\n",
       "      <th>count</th>\n",
       "      <td>10728.000000</td>\n",
       "      <td>10728.000000</td>\n",
       "      <td>10728.0</td>\n",
       "      <td>10728.000000</td>\n",
       "      <td>10728.000000</td>\n",
       "      <td>10728.000000</td>\n",
       "      <td>10728.000000</td>\n",
       "      <td>10728.000000</td>\n",
       "      <td>10728.000000</td>\n",
       "      <td>10728.000000</td>\n",
       "      <td>...</td>\n",
       "      <td>10728.000000</td>\n",
       "      <td>10728.000000</td>\n",
       "      <td>10728.000000</td>\n",
       "      <td>10728.000000</td>\n",
       "      <td>10728.000000</td>\n",
       "      <td>10728.000000</td>\n",
       "      <td>10728.000000</td>\n",
       "      <td>10728.000000</td>\n",
       "      <td>10728.000000</td>\n",
       "      <td>10728.000000</td>\n",
       "    </tr>\n",
       "    <tr>\n",
       "      <th>mean</th>\n",
       "      <td>2.630034</td>\n",
       "      <td>0.630034</td>\n",
       "      <td>1.0</td>\n",
       "      <td>596.500000</td>\n",
       "      <td>2.914430</td>\n",
       "      <td>0.470638</td>\n",
       "      <td>2.888423</td>\n",
       "      <td>1.493289</td>\n",
       "      <td>0.678691</td>\n",
       "      <td>2.898490</td>\n",
       "      <td>...</td>\n",
       "      <td>166.626025</td>\n",
       "      <td>514.335477</td>\n",
       "      <td>70.100671</td>\n",
       "      <td>87.466350</td>\n",
       "      <td>670.340697</td>\n",
       "      <td>20.020507</td>\n",
       "      <td>0.118568</td>\n",
       "      <td>123.795209</td>\n",
       "      <td>78.742077</td>\n",
       "      <td>2.152778</td>\n",
       "    </tr>\n",
       "    <tr>\n",
       "      <th>std</th>\n",
       "      <td>0.482818</td>\n",
       "      <td>0.482818</td>\n",
       "      <td>0.0</td>\n",
       "      <td>344.116678</td>\n",
       "      <td>1.147443</td>\n",
       "      <td>0.499160</td>\n",
       "      <td>2.191100</td>\n",
       "      <td>0.708293</td>\n",
       "      <td>0.603388</td>\n",
       "      <td>1.031726</td>\n",
       "      <td>...</td>\n",
       "      <td>77.353284</td>\n",
       "      <td>1088.931881</td>\n",
       "      <td>37.431633</td>\n",
       "      <td>53.550371</td>\n",
       "      <td>1441.594614</td>\n",
       "      <td>8.161895</td>\n",
       "      <td>0.323295</td>\n",
       "      <td>88.710743</td>\n",
       "      <td>55.263663</td>\n",
       "      <td>0.632293</td>\n",
       "    </tr>\n",
       "    <tr>\n",
       "      <th>min</th>\n",
       "      <td>2.000000</td>\n",
       "      <td>0.000000</td>\n",
       "      <td>1.0</td>\n",
       "      <td>1.000000</td>\n",
       "      <td>1.000000</td>\n",
       "      <td>0.000000</td>\n",
       "      <td>1.000000</td>\n",
       "      <td>0.000000</td>\n",
       "      <td>0.000000</td>\n",
       "      <td>1.000000</td>\n",
       "      <td>...</td>\n",
       "      <td>31.000000</td>\n",
       "      <td>4.000000</td>\n",
       "      <td>30.000000</td>\n",
       "      <td>8.000000</td>\n",
       "      <td>6.000000</td>\n",
       "      <td>10.000000</td>\n",
       "      <td>0.000000</td>\n",
       "      <td>0.000000</td>\n",
       "      <td>0.000000</td>\n",
       "      <td>0.000000</td>\n",
       "    </tr>\n",
       "    <tr>\n",
       "      <th>25%</th>\n",
       "      <td>2.000000</td>\n",
       "      <td>0.000000</td>\n",
       "      <td>1.0</td>\n",
       "      <td>298.750000</td>\n",
       "      <td>2.000000</td>\n",
       "      <td>0.000000</td>\n",
       "      <td>1.000000</td>\n",
       "      <td>1.000000</td>\n",
       "      <td>0.000000</td>\n",
       "      <td>2.000000</td>\n",
       "      <td>...</td>\n",
       "      <td>109.000000</td>\n",
       "      <td>58.000000</td>\n",
       "      <td>30.000000</td>\n",
       "      <td>55.000000</td>\n",
       "      <td>70.000000</td>\n",
       "      <td>10.000000</td>\n",
       "      <td>0.000000</td>\n",
       "      <td>70.000000</td>\n",
       "      <td>40.000000</td>\n",
       "      <td>2.000000</td>\n",
       "    </tr>\n",
       "    <tr>\n",
       "      <th>50%</th>\n",
       "      <td>3.000000</td>\n",
       "      <td>1.000000</td>\n",
       "      <td>1.0</td>\n",
       "      <td>596.500000</td>\n",
       "      <td>3.000000</td>\n",
       "      <td>0.000000</td>\n",
       "      <td>3.000000</td>\n",
       "      <td>1.000000</td>\n",
       "      <td>1.000000</td>\n",
       "      <td>3.000000</td>\n",
       "      <td>...</td>\n",
       "      <td>157.000000</td>\n",
       "      <td>94.000000</td>\n",
       "      <td>60.000000</td>\n",
       "      <td>78.000000</td>\n",
       "      <td>111.000000</td>\n",
       "      <td>20.000000</td>\n",
       "      <td>0.000000</td>\n",
       "      <td>120.000000</td>\n",
       "      <td>76.000000</td>\n",
       "      <td>2.000000</td>\n",
       "    </tr>\n",
       "    <tr>\n",
       "      <th>75%</th>\n",
       "      <td>3.000000</td>\n",
       "      <td>1.000000</td>\n",
       "      <td>1.0</td>\n",
       "      <td>894.250000</td>\n",
       "      <td>3.250000</td>\n",
       "      <td>1.000000</td>\n",
       "      <td>3.000000</td>\n",
       "      <td>2.000000</td>\n",
       "      <td>1.000000</td>\n",
       "      <td>4.000000</td>\n",
       "      <td>...</td>\n",
       "      <td>209.000000</td>\n",
       "      <td>170.000000</td>\n",
       "      <td>120.000000</td>\n",
       "      <td>109.000000</td>\n",
       "      <td>209.000000</td>\n",
       "      <td>30.000000</td>\n",
       "      <td>0.000000</td>\n",
       "      <td>176.000000</td>\n",
       "      <td>112.000000</td>\n",
       "      <td>3.000000</td>\n",
       "    </tr>\n",
       "    <tr>\n",
       "      <th>max</th>\n",
       "      <td>3.000000</td>\n",
       "      <td>1.000000</td>\n",
       "      <td>1.0</td>\n",
       "      <td>1192.000000</td>\n",
       "      <td>9.000000</td>\n",
       "      <td>1.000000</td>\n",
       "      <td>10.000000</td>\n",
       "      <td>3.000000</td>\n",
       "      <td>3.000000</td>\n",
       "      <td>6.000000</td>\n",
       "      <td>...</td>\n",
       "      <td>1049.000000</td>\n",
       "      <td>5040.000000</td>\n",
       "      <td>120.000000</td>\n",
       "      <td>796.000000</td>\n",
       "      <td>6720.000000</td>\n",
       "      <td>30.000000</td>\n",
       "      <td>1.000000</td>\n",
       "      <td>1560.000000</td>\n",
       "      <td>520.000000</td>\n",
       "      <td>3.000000</td>\n",
       "    </tr>\n",
       "  </tbody>\n",
       "</table>\n",
       "<p>8 rows × 28 columns</p>\n",
       "</div>"
      ],
      "text/plain": [
       "              GROUP        SURVEY       SP            ID       PURPOSE  \\\n",
       "count  10728.000000  10728.000000  10728.0  10728.000000  10728.000000   \n",
       "mean       2.630034      0.630034      1.0    596.500000      2.914430   \n",
       "std        0.482818      0.482818      0.0    344.116678      1.147443   \n",
       "min        2.000000      0.000000      1.0      1.000000      1.000000   \n",
       "25%        2.000000      0.000000      1.0    298.750000      2.000000   \n",
       "50%        3.000000      1.000000      1.0    596.500000      3.000000   \n",
       "75%        3.000000      1.000000      1.0    894.250000      3.250000   \n",
       "max        3.000000      1.000000      1.0   1192.000000      9.000000   \n",
       "\n",
       "              FIRST        TICKET           WHO       LUGGAGE           AGE  \\\n",
       "count  10728.000000  10728.000000  10728.000000  10728.000000  10728.000000   \n",
       "mean       0.470638      2.888423      1.493289      0.678691      2.898490   \n",
       "std        0.499160      2.191100      0.708293      0.603388      1.031726   \n",
       "min        0.000000      1.000000      0.000000      0.000000      1.000000   \n",
       "25%        0.000000      1.000000      1.000000      0.000000      2.000000   \n",
       "50%        0.000000      3.000000      1.000000      1.000000      3.000000   \n",
       "75%        1.000000      3.000000      2.000000      1.000000      4.000000   \n",
       "max        1.000000     10.000000      3.000000      3.000000      6.000000   \n",
       "\n",
       "       ...      TRAIN_TT      TRAIN_CO      TRAIN_HE         SM_TT  \\\n",
       "count  ...  10728.000000  10728.000000  10728.000000  10728.000000   \n",
       "mean   ...    166.626025    514.335477     70.100671     87.466350   \n",
       "std    ...     77.353284   1088.931881     37.431633     53.550371   \n",
       "min    ...     31.000000      4.000000     30.000000      8.000000   \n",
       "25%    ...    109.000000     58.000000     30.000000     55.000000   \n",
       "50%    ...    157.000000     94.000000     60.000000     78.000000   \n",
       "75%    ...    209.000000    170.000000    120.000000    109.000000   \n",
       "max    ...   1049.000000   5040.000000    120.000000    796.000000   \n",
       "\n",
       "              SM_CO         SM_HE      SM_SEATS        CAR_TT        CAR_CO  \\\n",
       "count  10728.000000  10728.000000  10728.000000  10728.000000  10728.000000   \n",
       "mean     670.340697     20.020507      0.118568    123.795209     78.742077   \n",
       "std     1441.594614      8.161895      0.323295     88.710743     55.263663   \n",
       "min        6.000000     10.000000      0.000000      0.000000      0.000000   \n",
       "25%       70.000000     10.000000      0.000000     70.000000     40.000000   \n",
       "50%      111.000000     20.000000      0.000000    120.000000     76.000000   \n",
       "75%      209.000000     30.000000      0.000000    176.000000    112.000000   \n",
       "max     6720.000000     30.000000      1.000000   1560.000000    520.000000   \n",
       "\n",
       "             CHOICE  \n",
       "count  10728.000000  \n",
       "mean       2.152778  \n",
       "std        0.632293  \n",
       "min        0.000000  \n",
       "25%        2.000000  \n",
       "50%        2.000000  \n",
       "75%        3.000000  \n",
       "max        3.000000  \n",
       "\n",
       "[8 rows x 28 columns]"
      ]
     },
     "execution_count": 40,
     "metadata": {},
     "output_type": "execute_result"
    }
   ],
   "source": [
    "data.describe() #another way to see data"
   ]
  },
  {
   "cell_type": "code",
   "execution_count": 23,
   "metadata": {},
   "outputs": [],
   "source": [
    "database = db.Database(\"swissmetro\",data)"
   ]
  },
  {
   "cell_type": "markdown",
   "metadata": {},
   "source": [
    " Define variables referring to the columns in the database"
   ]
  },
  {
   "cell_type": "code",
   "execution_count": 12,
   "metadata": {},
   "outputs": [],
   "source": [
    "\n",
    "CHOICE = Variable('CHOICE')\n",
    "PURPOSE = Variable('PURPOSE')\n",
    "TRAIN_AV = Variable('TRAIN_AV')\n",
    "TRAIN_CO = Variable('TRAIN_CO')\n",
    "TRAIN_TT = Variable('TRAIN_TT')\n",
    "SM_CO = Variable('SM_CO')\n",
    "SM_TT = Variable('SM_TT')\n",
    "SM_AV = Variable('SM_AV')\n",
    "CAR_AV = Variable('CAR_AV')\n",
    "CAR_CO = Variable('CAR_CO')\n",
    "CAR_TT = Variable('CAR_TT')\n",
    "GA = Variable('GA')\n",
    "SP = Variable('SP')"
   ]
  },
  {
   "cell_type": "markdown",
   "metadata": {},
   "source": [
    "REMOVE SOME OBSERVATIONS"
   ]
  },
  {
   "cell_type": "code",
   "execution_count": 24,
   "metadata": {},
   "outputs": [
    {
     "data": {
      "text/plain": [
       "10728"
      ]
     },
     "execution_count": 24,
     "metadata": {},
     "output_type": "execute_result"
    }
   ],
   "source": [
    "database.getSampleSize()"
   ]
  },
  {
   "cell_type": "code",
   "execution_count": 42,
   "metadata": {},
   "outputs": [
    {
     "name": "stdout",
     "output_type": "stream",
     "text": [
      "biogeme database swissmetro:\n",
      "      GROUP  SURVEY  SP   ID  PURPOSE  FIRST  TICKET  WHO  LUGGAGE  AGE  ...  \\\n",
      "0         2       0   1    1        1      0       1    1        0    3  ...   \n",
      "1         2       0   1    1        1      0       1    1        0    3  ...   \n",
      "2         2       0   1    1        1      0       1    1        0    3  ...   \n",
      "3         2       0   1    1        1      0       1    1        0    3  ...   \n",
      "4         2       0   1    1        1      0       1    1        0    3  ...   \n",
      "...     ...     ...  ..  ...      ...    ...     ...  ...      ...  ...  ...   \n",
      "8446      3       1   1  939        3      1       7    3        1    5  ...   \n",
      "8447      3       1   1  939        3      1       7    3        1    5  ...   \n",
      "8448      3       1   1  939        3      1       7    3        1    5  ...   \n",
      "8449      3       1   1  939        3      1       7    3        1    5  ...   \n",
      "8450      3       1   1  939        3      1       7    3        1    5  ...   \n",
      "\n",
      "      TRAIN_TT  TRAIN_CO  TRAIN_HE  SM_TT  SM_CO  SM_HE  SM_SEATS  CAR_TT  \\\n",
      "0          112        48       120     63     52     20         0     117   \n",
      "1          103        48        30     60     49     10         0     117   \n",
      "2          130        48        60     67     58     30         0     117   \n",
      "3          103        40        30     63     52     20         0      72   \n",
      "4          130        36        60     63     42     20         0      90   \n",
      "...        ...       ...       ...    ...    ...    ...       ...     ...   \n",
      "8446       108        13        30     50     17     30         0     130   \n",
      "8447       108        12        30     53     16     10         0      80   \n",
      "8448       108        16        60     50     16     20         0      80   \n",
      "8449       128        16        30     53     17     30         0      80   \n",
      "8450       108        13        60     53     21     30         0     100   \n",
      "\n",
      "      CAR_CO  CHOICE  \n",
      "0         65       2  \n",
      "1         84       2  \n",
      "2         52       2  \n",
      "3         52       2  \n",
      "4         84       2  \n",
      "...      ...     ...  \n",
      "8446      64       1  \n",
      "8447      80       1  \n",
      "8448      64       1  \n",
      "8449     104       1  \n",
      "8450      80       1  \n",
      "\n",
      "[6768 rows x 28 columns]\n"
     ]
    }
   ],
   "source": [
    "exclude = (( PURPOSE != 1 )  * ( PURPOSE != 3 ) + ( CHOICE == 0 )) > 0\n",
    "#remove the observations for which exclude variable is true\n",
    "database.remove(exclude)\n",
    "print(database)"
   ]
  },
  {
   "cell_type": "markdown",
   "metadata": {},
   "source": [
    "__MODEL SPECIFICATION__"
   ]
  },
  {
   "cell_type": "markdown",
   "metadata": {},
   "source": [
    "PARAMETERS TO BE ESTIMATED"
   ]
  },
  {
   "cell_type": "code",
   "execution_count": 47,
   "metadata": {},
   "outputs": [],
   "source": [
    "ASC_CAR = Beta(name='ASC_CAR', value=0, lowerbound= None, upperbound=None, status= 0)\n",
    " #status  = 0 means that the parameter is to be estimated\n",
    " #status = 1 means parameter has to constant as it is\n",
    "ASC_TRAIN = Beta('ASC_TRAIN', 0, None, None, 0)\n",
    "ASC_SM = Beta('ASC_SM', 0, None, None, 1)\n",
    "B_TIME = Beta('B_TIME', 0, None, None, 0)\n",
    "B_COST = Beta('B_COST', 0, None, None, 0)\n"
   ]
  },
  {
   "cell_type": "markdown",
   "metadata": {},
   "source": [
    "Definition of new variables"
   ]
  },
  {
   "cell_type": "code",
   "execution_count": 49,
   "metadata": {},
   "outputs": [],
   "source": [
    "SM_COST = SM_CO * (GA == 0)\n",
    "TRAIN_COST = TRAIN_CO * (GA == 0)\n",
    "CAR_AV_SP = CAR_AV * (SP != 0) #SP = Stated preference\n",
    "TRAIN_AV_SP = TRAIN_AV * (SP != 0)\n",
    "TRAIN_TT_SCALED = TRAIN_TT/100.0\n",
    "TRAIN_COST_SCALED = TRAIN_COST/100\n",
    "SM_TT_SCALED= SM_TT/100.0\n",
    "SM_COST_SCALED = SM_COST/100\n",
    "CAR_TT_SCALED = CAR_TT/100\n",
    "CAR_CO_SCALED = CAR_CO/100"
   ]
  },
  {
   "cell_type": "markdown",
   "metadata": {},
   "source": [
    "Specification of utility function"
   ]
  },
  {
   "cell_type": "code",
   "execution_count": 139,
   "metadata": {},
   "outputs": [],
   "source": [
    "V1 = ASC_TRAIN + B_TIME * TRAIN_TT_SCALED + B_COST * TRAIN_COST_SCALED\n",
    "V2 = ASC_SM + B_TIME * SM_TT_SCALED + B_COST * SM_COST_SCALED\n",
    "V3 = ASC_CAR + B_TIME * CAR_TT_SCALED + B_COST * CAR_CO_SCALED"
   ]
  },
  {
   "cell_type": "markdown",
   "metadata": {},
   "source": [
    "Associate the utility function with the numbering of alternatives"
   ]
  },
  {
   "cell_type": "code",
   "execution_count": 140,
   "metadata": {},
   "outputs": [],
   "source": [
    "V = {1: V1,2: V2,3: V3}"
   ]
  },
  {
   "cell_type": "markdown",
   "metadata": {},
   "source": [
    "Associate the availability conditions with the alternatives"
   ]
  },
  {
   "cell_type": "code",
   "execution_count": 141,
   "metadata": {},
   "outputs": [],
   "source": [
    "av = {1: TRAIN_AV_SP,2: SM_AV,3: CAR_AV_SP}"
   ]
  },
  {
   "cell_type": "markdown",
   "metadata": {},
   "source": [
    "log likelihood function "
   ]
  },
  {
   "cell_type": "code",
   "execution_count": 142,
   "metadata": {},
   "outputs": [],
   "source": [
    "logprob = models.loglogit(V,av,CHOICE)"
   ]
  },
  {
   "cell_type": "markdown",
   "metadata": {},
   "source": [
    "__CREATING THE MODEL__"
   ]
  },
  {
   "cell_type": "code",
   "execution_count": 143,
   "metadata": {},
   "outputs": [],
   "source": [
    "model = bio.BIOGEME(database,logprob)\n",
    "model.modelName = \"MNL_Model\"\n"
   ]
  },
  {
   "cell_type": "markdown",
   "metadata": {},
   "source": [
    "Running The Estimate"
   ]
  },
  {
   "cell_type": "code",
   "execution_count": 144,
   "metadata": {},
   "outputs": [],
   "source": [
    "results = model.estimate()"
   ]
  },
  {
   "cell_type": "markdown",
   "metadata": {},
   "source": [
    "READ THE RESULTS"
   ]
  },
  {
   "cell_type": "code",
   "execution_count": 145,
   "metadata": {},
   "outputs": [
    {
     "data": {
      "text/html": [
       "<div>\n",
       "<style scoped>\n",
       "    .dataframe tbody tr th:only-of-type {\n",
       "        vertical-align: middle;\n",
       "    }\n",
       "\n",
       "    .dataframe tbody tr th {\n",
       "        vertical-align: top;\n",
       "    }\n",
       "\n",
       "    .dataframe thead th {\n",
       "        text-align: right;\n",
       "    }\n",
       "</style>\n",
       "<table border=\"1\" class=\"dataframe\">\n",
       "  <thead>\n",
       "    <tr style=\"text-align: right;\">\n",
       "      <th></th>\n",
       "      <th>Value</th>\n",
       "      <th>Rob. Std err</th>\n",
       "      <th>Rob. t-test</th>\n",
       "      <th>Rob. p-value</th>\n",
       "    </tr>\n",
       "  </thead>\n",
       "  <tbody>\n",
       "    <tr>\n",
       "      <th>ASC_CAR</th>\n",
       "      <td>-0.154632</td>\n",
       "      <td>0.058163</td>\n",
       "      <td>-2.658586</td>\n",
       "      <td>0.007847</td>\n",
       "    </tr>\n",
       "    <tr>\n",
       "      <th>ASC_TRAIN</th>\n",
       "      <td>-0.701187</td>\n",
       "      <td>0.082562</td>\n",
       "      <td>-8.492846</td>\n",
       "      <td>0.000000</td>\n",
       "    </tr>\n",
       "    <tr>\n",
       "      <th>B_COST</th>\n",
       "      <td>-1.083791</td>\n",
       "      <td>0.068225</td>\n",
       "      <td>-15.885522</td>\n",
       "      <td>0.000000</td>\n",
       "    </tr>\n",
       "    <tr>\n",
       "      <th>B_TIME</th>\n",
       "      <td>-1.277860</td>\n",
       "      <td>0.104254</td>\n",
       "      <td>-12.257125</td>\n",
       "      <td>0.000000</td>\n",
       "    </tr>\n",
       "  </tbody>\n",
       "</table>\n",
       "</div>"
      ],
      "text/plain": [
       "              Value  Rob. Std err  Rob. t-test  Rob. p-value\n",
       "ASC_CAR   -0.154632      0.058163    -2.658586      0.007847\n",
       "ASC_TRAIN -0.701187      0.082562    -8.492846      0.000000\n",
       "B_COST    -1.083791      0.068225   -15.885522      0.000000\n",
       "B_TIME    -1.277860      0.104254   -12.257125      0.000000"
      ]
     },
     "execution_count": 145,
     "metadata": {},
     "output_type": "execute_result"
    }
   ],
   "source": [
    "Data_results = results.getEstimatedParameters()\n",
    "Data_results"
   ]
  },
  {
   "cell_type": "code",
   "execution_count": 146,
   "metadata": {},
   "outputs": [
    {
     "name": "stdout",
     "output_type": "stream",
     "text": [
      "\n",
      "Results for model MNL_Model\n",
      "Output file (HTML):\t\t\tMNL_Model~07.html\n",
      "Nbr of parameters:\t\t4\n",
      "Sample size:\t\t\t6768\n",
      "Excluded data:\t\t\t0\n",
      "Init log likelihood:\t\t-5332.093\n",
      "Final log likelihood:\t\t-5331.252\n",
      "Likelihood ratio test (init):\t\t1.68217\n",
      "Rho square (init):\t\t\t0.000158\n",
      "Rho bar square (init):\t\t\t-0.000592\n",
      "Akaike Information Criterion:\t10670.5\n",
      "Bayesian Information Criterion:\t10697.78\n",
      "Final gradient norm:\t\t0.0001231191\n",
      "ASC_CAR        : -0.155[0.0432 -3.58 0.000348][0.0582 -2.66 0.00785]\n",
      "ASC_TRAIN      : -0.701[0.0549 -12.8 0][0.0826 -8.49 0]\n",
      "B_COST         : -1.08[0.0518 -20.9 0][0.0682 -15.9 0]\n",
      "B_TIME         : -1.28[0.0569 -22.5 0][0.104 -12.3 0]\n",
      "('ASC_TRAIN', 'ASC_CAR'):\t0.00138\t0.58\t-11.9\t0\t0.0039\t0.812\t-11.2\t0\n",
      "('B_COST', 'ASC_CAR'):\t0.000485\t0.216\t-15.5\t0\t2.86e-05\t0.00722\t-10.4\t0\n",
      "('B_COST', 'ASC_TRAIN'):\t8.22e-06\t0.00289\t-5.08\t3.85e-07\t-0.000831\t-0.147\t-3.34\t0.000842\n",
      "('B_TIME', 'ASC_CAR'):\t-0.00144\t-0.585\t-12.6\t0\t-0.00482\t-0.796\t-7.27\t3.72e-13\n",
      "('B_TIME', 'ASC_TRAIN'):\t-0.00225\t-0.722\t-5.56\t2.69e-08\t-0.0076\t-0.883\t-3.18\t0.00147\n",
      "('B_TIME', 'B_COST'):\t0.00055\t0.187\t-2.79\t0.0052\t0.0022\t0.309\t-1.84\t0.0658\n",
      "\n"
     ]
    }
   ],
   "source": [
    "print(results)"
   ]
  },
  {
   "cell_type": "markdown",
   "metadata": {},
   "source": [
    "__PREDICTING THE VALUES AND CALCULATING ACCURACY OF THE MODEL__"
   ]
  },
  {
   "cell_type": "code",
   "execution_count": 52,
   "metadata": {},
   "outputs": [],
   "source": [
    "from sklearn.model_selection import train_test_split"
   ]
  },
  {
   "cell_type": "code",
   "execution_count": 53,
   "metadata": {},
   "outputs": [
    {
     "name": "stdout",
     "output_type": "stream",
     "text": [
      "[2 1 3 0]\n",
      "[1 2 3 4 5 6 7 8 9]\n"
     ]
    }
   ],
   "source": [
    "data = pd.read_table(\"swissmetro.dat\")\n",
    "print(data['CHOICE'].unique())  # Check unique values in CHOICE\n",
    "print(data['PURPOSE'].unique())  # Check unique values in PURPOSE\n"
   ]
  },
  {
   "cell_type": "markdown",
   "metadata": {},
   "source": [
    "FILTER AND PREPARE DATA"
   ]
  },
  {
   "cell_type": "code",
   "execution_count": 54,
   "metadata": {},
   "outputs": [],
   "source": [
    "exclude = ((data['PURPOSE'] != 1) & (data['PURPOSE'] != 3) | (data['CHOICE'] == 0))\n",
    "filtered_data = data[~exclude]"
   ]
  },
  {
   "cell_type": "markdown",
   "metadata": {},
   "source": [
    "SPLITTING INTO TRAIN AND TEST"
   ]
  },
  {
   "cell_type": "code",
   "execution_count": 55,
   "metadata": {},
   "outputs": [],
   "source": [
    "#Split Data into Train and Test Sets\n",
    "train_data, test_data = train_test_split(filtered_data, test_size=0.3, random_state=42)\n"
   ]
  },
  {
   "cell_type": "markdown",
   "metadata": {},
   "source": [
    "CREATE BIOGEME DATABASES"
   ]
  },
  {
   "cell_type": "code",
   "execution_count": 56,
   "metadata": {},
   "outputs": [],
   "source": [
    "# Create Biogeme databases for train and test data\n",
    "train_database = db.Database(\"train_swissmetro\", train_data)\n",
    "test_database = db.Database(\"test_swissmetro\", test_data)\n"
   ]
  },
  {
   "cell_type": "code",
   "execution_count": 62,
   "metadata": {},
   "outputs": [],
   "source": [
    "V1 = ASC_TRAIN + B_TIME * TRAIN_TT_SCALED + B_COST * TRAIN_COST_SCALED\n",
    "V2 = ASC_SM + B_TIME * SM_TT_SCALED + B_COST * SM_COST_SCALED\n",
    "V3 = ASC_CAR + B_TIME * CAR_TT_SCALED + B_COST * CAR_CO_SCALED"
   ]
  },
  {
   "cell_type": "code",
   "execution_count": 63,
   "metadata": {},
   "outputs": [],
   "source": [
    "V = {1: V1,2: V2,3: V3}"
   ]
  },
  {
   "cell_type": "code",
   "execution_count": 64,
   "metadata": {},
   "outputs": [],
   "source": [
    "av = {1: TRAIN_AV_SP,2: SM_AV,3: CAR_AV_SP}"
   ]
  },
  {
   "cell_type": "code",
   "execution_count": 65,
   "metadata": {},
   "outputs": [],
   "source": [
    "logprob = models.loglogit(V,av,CHOICE)"
   ]
  },
  {
   "cell_type": "markdown",
   "metadata": {},
   "source": [
    "TRAIN THE MODEL"
   ]
  },
  {
   "cell_type": "code",
   "execution_count": 66,
   "metadata": {},
   "outputs": [],
   "source": [
    "train_model = bio.BIOGEME(train_database, logprob)\n",
    "train_model.modelName = \"MNL_Model\"\n",
    "results = train_model.estimate()"
   ]
  },
  {
   "cell_type": "code",
   "execution_count": 67,
   "metadata": {},
   "outputs": [
    {
     "name": "stdout",
     "output_type": "stream",
     "text": [
      "Estimated Parameters:\n",
      "              Value  Rob. Std err  Rob. t-test  Rob. p-value\n",
      "ASC_CAR   -0.197232      0.074253    -2.656197  7.902738e-03\n",
      "ASC_TRAIN -0.740818      0.105495    -7.022269  2.182921e-12\n",
      "B_COST    -1.106691      0.077882   -14.209881  0.000000e+00\n",
      "B_TIME    -1.191172      0.132775    -8.971365  0.000000e+00\n"
     ]
    }
   ],
   "source": [
    "# Print estimated parameters\n",
    "print(\"Estimated Parameters:\")\n",
    "print(results.getEstimatedParameters())"
   ]
  },
  {
   "cell_type": "markdown",
   "metadata": {},
   "source": [
    "PREDICTING VALUES"
   ]
  },
  {
   "cell_type": "markdown",
   "metadata": {},
   "source": [
    "We use the estimated parameters to simulate choices for the test data. Biogeme does not have a direct predict function, so we simulate the choice probabilities and choose the alternative with the highest probability."
   ]
  },
  {
   "cell_type": "code",
   "execution_count": 68,
   "metadata": {},
   "outputs": [
    {
     "data": {
      "text/plain": [
       "{'ASC_CAR': -0.19723153300957064,\n",
       " 'ASC_TRAIN': -0.7408177012759339,\n",
       " 'B_COST': -1.1066905582366664,\n",
       " 'B_TIME': -1.1911720539544959}"
      ]
     },
     "execution_count": 68,
     "metadata": {},
     "output_type": "execute_result"
    }
   ],
   "source": [
    "# Retrieve Beta Values\n",
    "beta_values = results.getBetaValues()\n",
    "beta_values"
   ]
  },
  {
   "cell_type": "markdown",
   "metadata": {},
   "source": [
    "To predict choices for new data (test dataset), we simulated choice probabilities using the estimated parameters (beta_values). Biogeme's simulate function calculates the choice probabilities (Prob1, Prob2, Prob3 for alternatives 1, 2, and 3)."
   ]
  },
  {
   "cell_type": "code",
   "execution_count": 69,
   "metadata": {},
   "outputs": [],
   "source": [
    "\n",
    "# Define expressions to compute probabilities for each alternative\n",
    "prob1 = models.logit(V, av, 1)\n",
    "prob2 = models.logit(V, av, 2)\n",
    "prob3 = models.logit(V, av, 3)\n"
   ]
  },
  {
   "cell_type": "code",
   "execution_count": 71,
   "metadata": {},
   "outputs": [],
   "source": [
    "# Create a dictionary of the probability expressions\n",
    "simulate = {\n",
    "    'Prob1': prob1,\n",
    "    'Prob2': prob2,\n",
    "    'Prob3': prob3\n",
    "}"
   ]
  },
  {
   "cell_type": "code",
   "execution_count": 72,
   "metadata": {},
   "outputs": [
    {
     "name": "stderr",
     "output_type": "stream",
     "text": [
      "The chosen alternative [`3.0`] is not available for the following observations (rownumber[choice]): 6[3.0]-7[3.0]-10[3.0]-16[3.0]-25[3.0]-26[3.0]-28[3.0]-31[3.0]-33[3.0]-34[3.0]-38[3.0]-46[3.0]-48[3.0...\n",
      "The chosen alternative [`3.0`] is not available for the following observations (rownumber[choice]): 6[3.0]-7[3.0]-10[3.0]-16[3.0]-25[3.0]-26[3.0]-28[3.0]-31[3.0]-33[3.0]-34[3.0]-38[3.0]-46[3.0]-48[3.0...\n"
     ]
    }
   ],
   "source": [
    "# Simulate probabilities for the test dataset\n",
    "test_model = bio.BIOGEME(test_database, simulate)\n",
    "simulated_probs = test_model.simulate(beta_values)\n"
   ]
  },
  {
   "cell_type": "code",
   "execution_count": 73,
   "metadata": {},
   "outputs": [
    {
     "name": "stdout",
     "output_type": "stream",
     "text": [
      "Simulated Probabilities:\n",
      "         Prob1     Prob2     Prob3\n",
      "457   0.195350  0.571999  0.232651\n",
      "8161  0.126237  0.534150  0.339613\n",
      "217   0.103698  0.448977  0.447325\n",
      "5998  0.113704  0.664866  0.221430\n",
      "534   0.070915  0.104269  0.824817\n"
     ]
    }
   ],
   "source": [
    "# Print simulated probabilities to debug\n",
    "print(\"Simulated Probabilities:\")\n",
    "print(simulated_probs.head())"
   ]
  },
  {
   "cell_type": "code",
   "execution_count": 74,
   "metadata": {},
   "outputs": [],
   "source": [
    "\n",
    "# Predict the choice with the highest probability for each observation\n",
    "#This finds the alternative with the highest simulated probability for each observation. \n",
    "# and extracts the choice number (1, 2, or 3) from the column name ('Prob1', 'Prob2', 'Prob3')\n",
    "simulated_choices = simulated_probs.idxmax(axis=1).apply(lambda x: int(x[-1]))\n"
   ]
  },
  {
   "cell_type": "markdown",
   "metadata": {},
   "source": [
    "CALCULATING ACCURACY"
   ]
  },
  {
   "cell_type": "markdown",
   "metadata": {},
   "source": [
    "After simulating choice probabilities, we determine the choice with the highest probability (simulated_choices.idxmax(axis=1)) for each observation in the test dataset. we compare these simulated choices against the actual choices (test_data['CHOICE']) to calculate accuracy."
   ]
  },
  {
   "cell_type": "code",
   "execution_count": 183,
   "metadata": {},
   "outputs": [],
   "source": [
    "# Ensure the actual choices column exists in test_data\n",
    "actual_choices = test_data['CHOICE'].values"
   ]
  },
  {
   "cell_type": "code",
   "execution_count": 182,
   "metadata": {},
   "outputs": [
    {
     "name": "stdout",
     "output_type": "stream",
     "text": [
      "Simulated Choices:\n",
      "457     2\n",
      "8161    2\n",
      "217     2\n",
      "5998    2\n",
      "534     3\n",
      "dtype: int64\n",
      "Actual Choices:\n",
      "[2 3 3 3 3]\n",
      "Accuracy: 68.69%\n"
     ]
    }
   ],
   "source": [
    "# Print simulated and actual choices to debug\n",
    "print(\"Simulated Choices:\")\n",
    "print(simulated_choices.head())\n",
    "print(\"Actual Choices:\")\n",
    "print(actual_choices[:5])\n",
    "\n",
    "# Compute accuracy\n",
    "accuracy = (simulated_choices == actual_choices).mean()\n",
    "print(f\"Accuracy: {accuracy * 100:.2f}%\")"
   ]
  }
 ],
 "metadata": {
  "kernelspec": {
   "display_name": "Python (larch_env)",
   "language": "python",
   "name": "larch_env"
  },
  "language_info": {
   "codemirror_mode": {
    "name": "ipython",
    "version": 3
   },
   "file_extension": ".py",
   "mimetype": "text/x-python",
   "name": "python",
   "nbconvert_exporter": "python",
   "pygments_lexer": "ipython3",
   "version": "3.9.19"
  }
 },
 "nbformat": 4,
 "nbformat_minor": 2
}
